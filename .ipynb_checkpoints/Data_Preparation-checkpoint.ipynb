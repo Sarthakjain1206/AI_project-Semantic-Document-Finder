{
 "cells": [
  {
   "cell_type": "code",
   "execution_count": 2,
   "metadata": {},
   "outputs": [],
   "source": [
    "%matplotlib inline\n",
    "import warnings\n",
    "warnings.filterwarnings(\"ignore\")\n",
    "import pandas as pd\n",
    "import numpy as np\n",
    "import nltk\n",
    "import gensim\n",
    "from gensim.models import LdaModel\n",
    "from gensim import models, corpora, similarities\n",
    "from gensim.parsing.preprocessing import STOPWORDS\n",
    "\n",
    "import re\n",
    "from nltk.stem import WordNetLemmatizer\n",
    "import time\n",
    "from nltk import FreqDist\n",
    "from scipy.stats import entropy\n",
    "import matplotlib.pyplot as plt\n",
    "import seaborn as sns\n",
    "sns.set_style(\"darkgrid\")"
   ]
  },
  {
   "cell_type": "code",
   "execution_count": 4,
   "metadata": {},
   "outputs": [],
   "source": [
    "table = pd.read_csv(r'C:\\Users\\Asus\\PycharmProjects\\Scrapy\\parse_wikipedia\\wikipedia_articles.csv')"
   ]
  },
  {
   "cell_type": "code",
   "execution_count": 5,
   "metadata": {},
   "outputs": [
    {
     "data": {
      "text/html": [
       "<div>\n",
       "<style scoped>\n",
       "    .dataframe tbody tr th:only-of-type {\n",
       "        vertical-align: middle;\n",
       "    }\n",
       "\n",
       "    .dataframe tbody tr th {\n",
       "        vertical-align: top;\n",
       "    }\n",
       "\n",
       "    .dataframe thead th {\n",
       "        text-align: right;\n",
       "    }\n",
       "</style>\n",
       "<table border=\"1\" class=\"dataframe\">\n",
       "  <thead>\n",
       "    <tr style=\"text-align: right;\">\n",
       "      <th></th>\n",
       "      <th>Title</th>\n",
       "      <th>URL</th>\n",
       "      <th>Text</th>\n",
       "      <th>Table Table</th>\n",
       "    </tr>\n",
       "  </thead>\n",
       "  <tbody>\n",
       "    <tr>\n",
       "      <th>11416</th>\n",
       "      <td>Circus</td>\n",
       "      <td>https://en.wikipedia.org/wiki/Circus_(Britney_...</td>\n",
       "      <td>\\n\\n\\nCircus\\n is the sixth studio album by Am...</td>\n",
       "      <td>Circus\\nStandard edition. The deluxe edition f...</td>\n",
       "    </tr>\n",
       "    <tr>\n",
       "      <th>11417</th>\n",
       "      <td>Character (symbol)</td>\n",
       "      <td>https://en.wikipedia.org/wiki/Character_(symbol)</td>\n",
       "      <td>A \\ncharacter\\n is a \\nsign\\n or \\nsymbol\\n.\\n...</td>\n",
       "      <td>\\n\\n\\n\\n\\n\\nLook up \\ncharacter\\n in Wiktionar...</td>\n",
       "    </tr>\n",
       "    <tr>\n",
       "      <th>11418</th>\n",
       "      <td>Three Hearts</td>\n",
       "      <td>https://en.wikipedia.org/wiki/Three_Hearts_(film)</td>\n",
       "      <td>Three Hearts\\n (\\nFrench\\n: \\n3 cœurs\\n) is a ...</td>\n",
       "      <td>Three Hearts\\nTheatrical release poster\\nDirec...</td>\n",
       "    </tr>\n",
       "    <tr>\n",
       "      <th>11419</th>\n",
       "      <td>Gryllinae</td>\n",
       "      <td>https://en.wikipedia.org/wiki/Gryllinae</td>\n",
       "      <td>\\n\\nMany, see text\\n\\nGryllinae\\n, or \\nfield ...</td>\n",
       "      <td>\\n\\n\\n\\n\\nGryllinae\\n\\n\\n\\n\\n\\n\\n\\n\\n\\n\\n\\nCom...</td>\n",
       "    </tr>\n",
       "    <tr>\n",
       "      <th>11420</th>\n",
       "      <td>Gryllus campestris</td>\n",
       "      <td>https://en.wikipedia.org/wiki/Gryllus_campestris</td>\n",
       "      <td>\\n\\nGryllus campestris\\n, the \\nEuropean field...</td>\n",
       "      <td>\\n\\n\\n\\n\\nGryllus campestris\\n\\n\\n\\n\\n\\n\\n\\n\\n...</td>\n",
       "    </tr>\n",
       "  </tbody>\n",
       "</table>\n",
       "</div>"
      ],
      "text/plain": [
       "                    Title                                                URL  \\\n",
       "11416              Circus  https://en.wikipedia.org/wiki/Circus_(Britney_...   \n",
       "11417  Character (symbol)   https://en.wikipedia.org/wiki/Character_(symbol)   \n",
       "11418        Three Hearts  https://en.wikipedia.org/wiki/Three_Hearts_(film)   \n",
       "11419           Gryllinae            https://en.wikipedia.org/wiki/Gryllinae   \n",
       "11420  Gryllus campestris   https://en.wikipedia.org/wiki/Gryllus_campestris   \n",
       "\n",
       "                                                    Text  \\\n",
       "11416  \\n\\n\\nCircus\\n is the sixth studio album by Am...   \n",
       "11417  A \\ncharacter\\n is a \\nsign\\n or \\nsymbol\\n.\\n...   \n",
       "11418  Three Hearts\\n (\\nFrench\\n: \\n3 cœurs\\n) is a ...   \n",
       "11419  \\n\\nMany, see text\\n\\nGryllinae\\n, or \\nfield ...   \n",
       "11420  \\n\\nGryllus campestris\\n, the \\nEuropean field...   \n",
       "\n",
       "                                             Table Table  \n",
       "11416  Circus\\nStandard edition. The deluxe edition f...  \n",
       "11417  \\n\\n\\n\\n\\n\\nLook up \\ncharacter\\n in Wiktionar...  \n",
       "11418  Three Hearts\\nTheatrical release poster\\nDirec...  \n",
       "11419  \\n\\n\\n\\n\\nGryllinae\\n\\n\\n\\n\\n\\n\\n\\n\\n\\n\\n\\nCom...  \n",
       "11420  \\n\\n\\n\\n\\nGryllus campestris\\n\\n\\n\\n\\n\\n\\n\\n\\n...  "
      ]
     },
     "execution_count": 5,
     "metadata": {},
     "output_type": "execute_result"
    }
   ],
   "source": [
    "table.tail()"
   ]
  },
  {
   "cell_type": "code",
   "execution_count": 6,
   "metadata": {},
   "outputs": [
    {
     "data": {
      "text/html": [
       "<div>\n",
       "<style scoped>\n",
       "    .dataframe tbody tr th:only-of-type {\n",
       "        vertical-align: middle;\n",
       "    }\n",
       "\n",
       "    .dataframe tbody tr th {\n",
       "        vertical-align: top;\n",
       "    }\n",
       "\n",
       "    .dataframe thead th {\n",
       "        text-align: right;\n",
       "    }\n",
       "</style>\n",
       "<table border=\"1\" class=\"dataframe\">\n",
       "  <thead>\n",
       "    <tr style=\"text-align: right;\">\n",
       "      <th></th>\n",
       "      <th>Title</th>\n",
       "      <th>URL</th>\n",
       "      <th>Text</th>\n",
       "      <th>Table Table</th>\n",
       "    </tr>\n",
       "  </thead>\n",
       "  <tbody>\n",
       "    <tr>\n",
       "      <th>8</th>\n",
       "      <td>Virus</td>\n",
       "      <td>https://en.wikipedia.org/wiki/Virion</td>\n",
       "      <td>\\n\\n\\n\\nSee text\\n\\n\\nA \\nvirus\\n is a submicr...</td>\n",
       "      <td>\\n\\n\\n\\n\\nVirus\\n\\n\\n\\n\\n\\n\\n\\n\\n\\n\\n\\nSARS-Co...</td>\n",
       "    </tr>\n",
       "    <tr>\n",
       "      <th>49</th>\n",
       "      <td>Recombinant DNA</td>\n",
       "      <td>https://en.wikipedia.org/wiki/Gene_splicing</td>\n",
       "      <td>Recombinant DNA\\n (\\nrDNA\\n) molecules are \\nD...</td>\n",
       "      <td>Library resources\\n about \\n \\nRecombinant pro...</td>\n",
       "    </tr>\n",
       "    <tr>\n",
       "      <th>395</th>\n",
       "      <td>Hoshū jugyō kō</td>\n",
       "      <td>https://en.wikipedia.org/wiki/Hosh%C5%AB_jugy%...</td>\n",
       "      <td>Hoshū jugyō kō\\n (\\n補習授業校\\n)\\n, or \\nhoshūkō\\n...</td>\n",
       "      <td>This section \\nneeds expansion\\n. \\nYou can he...</td>\n",
       "    </tr>\n",
       "    <tr>\n",
       "      <th>493</th>\n",
       "      <td>Twisted pair</td>\n",
       "      <td>https://en.wikipedia.org/wiki/Twisted-pair_cable</td>\n",
       "      <td>\\n\\nTwisted pair\\n cabling is a type of wiring...</td>\n",
       "      <td>\\n\\nCommon industry nomenclature for cable con...</td>\n",
       "    </tr>\n",
       "    <tr>\n",
       "      <th>509</th>\n",
       "      <td>Token ring</td>\n",
       "      <td>https://en.wikipedia.org/wiki/Token_Ring</td>\n",
       "      <td>Token Ring\\n is a \\ncomputer networking\\n tech...</td>\n",
       "      <td>\\n\\n\\n\\n\\nStart Delimiter\\n\\n\\n\\nAccess Contro...</td>\n",
       "    </tr>\n",
       "  </tbody>\n",
       "</table>\n",
       "</div>"
      ],
      "text/plain": [
       "               Title                                                URL  \\\n",
       "8              Virus               https://en.wikipedia.org/wiki/Virion   \n",
       "49   Recombinant DNA        https://en.wikipedia.org/wiki/Gene_splicing   \n",
       "395   Hoshū jugyō kō  https://en.wikipedia.org/wiki/Hosh%C5%AB_jugy%...   \n",
       "493     Twisted pair   https://en.wikipedia.org/wiki/Twisted-pair_cable   \n",
       "509       Token ring           https://en.wikipedia.org/wiki/Token_Ring   \n",
       "\n",
       "                                                  Text  \\\n",
       "8    \\n\\n\\n\\nSee text\\n\\n\\nA \\nvirus\\n is a submicr...   \n",
       "49   Recombinant DNA\\n (\\nrDNA\\n) molecules are \\nD...   \n",
       "395  Hoshū jugyō kō\\n (\\n補習授業校\\n)\\n, or \\nhoshūkō\\n...   \n",
       "493  \\n\\nTwisted pair\\n cabling is a type of wiring...   \n",
       "509  Token Ring\\n is a \\ncomputer networking\\n tech...   \n",
       "\n",
       "                                           Table Table  \n",
       "8    \\n\\n\\n\\n\\nVirus\\n\\n\\n\\n\\n\\n\\n\\n\\n\\n\\n\\nSARS-Co...  \n",
       "49   Library resources\\n about \\n \\nRecombinant pro...  \n",
       "395  This section \\nneeds expansion\\n. \\nYou can he...  \n",
       "493  \\n\\nCommon industry nomenclature for cable con...  \n",
       "509  \\n\\n\\n\\n\\nStart Delimiter\\n\\n\\n\\nAccess Contro...  "
      ]
     },
     "execution_count": 6,
     "metadata": {},
     "output_type": "execute_result"
    }
   ],
   "source": [
    "table[table.duplicated(subset=['Title'])].head()"
   ]
  },
  {
   "cell_type": "code",
   "execution_count": 7,
   "metadata": {},
   "outputs": [
    {
     "data": {
      "text/html": [
       "<div>\n",
       "<style scoped>\n",
       "    .dataframe tbody tr th:only-of-type {\n",
       "        vertical-align: middle;\n",
       "    }\n",
       "\n",
       "    .dataframe tbody tr th {\n",
       "        vertical-align: top;\n",
       "    }\n",
       "\n",
       "    .dataframe thead th {\n",
       "        text-align: right;\n",
       "    }\n",
       "</style>\n",
       "<table border=\"1\" class=\"dataframe\">\n",
       "  <thead>\n",
       "    <tr style=\"text-align: right;\">\n",
       "      <th></th>\n",
       "      <th>Title</th>\n",
       "      <th>URL</th>\n",
       "      <th>Text</th>\n",
       "      <th>Table Table</th>\n",
       "    </tr>\n",
       "  </thead>\n",
       "  <tbody>\n",
       "  </tbody>\n",
       "</table>\n",
       "</div>"
      ],
      "text/plain": [
       "Empty DataFrame\n",
       "Columns: [Title, URL, Text, Table Table]\n",
       "Index: []"
      ]
     },
     "execution_count": 7,
     "metadata": {},
     "output_type": "execute_result"
    }
   ],
   "source": [
    "table[table.duplicated(subset=['URL'])]"
   ]
  },
  {
   "cell_type": "code",
   "execution_count": 8,
   "metadata": {},
   "outputs": [
    {
     "data": {
      "text/html": [
       "<div>\n",
       "<style scoped>\n",
       "    .dataframe tbody tr th:only-of-type {\n",
       "        vertical-align: middle;\n",
       "    }\n",
       "\n",
       "    .dataframe tbody tr th {\n",
       "        vertical-align: top;\n",
       "    }\n",
       "\n",
       "    .dataframe thead th {\n",
       "        text-align: right;\n",
       "    }\n",
       "</style>\n",
       "<table border=\"1\" class=\"dataframe\">\n",
       "  <thead>\n",
       "    <tr style=\"text-align: right;\">\n",
       "      <th></th>\n",
       "      <th>Title</th>\n",
       "      <th>URL</th>\n",
       "      <th>Text</th>\n",
       "      <th>Table Table</th>\n",
       "    </tr>\n",
       "  </thead>\n",
       "  <tbody>\n",
       "    <tr>\n",
       "      <th>4151</th>\n",
       "      <td>Revenue</td>\n",
       "      <td>https://en.wikipedia.org/wiki/Net_revenue</td>\n",
       "      <td>In \\naccounting\\n, \\nrevenue\\n is the income t...</td>\n",
       "      <td>Part of \\na series\\n on\\nAccounting\\n\\n\\nHisto...</td>\n",
       "    </tr>\n",
       "    <tr>\n",
       "      <th>11186</th>\n",
       "      <td>Revenue</td>\n",
       "      <td>https://en.wikipedia.org/wiki/Revenues</td>\n",
       "      <td>In \\naccounting\\n, \\nrevenue\\n is the income t...</td>\n",
       "      <td>Part of \\na series\\n on\\nAccounting\\n\\n\\nHisto...</td>\n",
       "    </tr>\n",
       "  </tbody>\n",
       "</table>\n",
       "</div>"
      ],
      "text/plain": [
       "         Title                                        URL  \\\n",
       "4151   Revenue  https://en.wikipedia.org/wiki/Net_revenue   \n",
       "11186  Revenue     https://en.wikipedia.org/wiki/Revenues   \n",
       "\n",
       "                                                    Text  \\\n",
       "4151   In \\naccounting\\n, \\nrevenue\\n is the income t...   \n",
       "11186  In \\naccounting\\n, \\nrevenue\\n is the income t...   \n",
       "\n",
       "                                             Table Table  \n",
       "4151   Part of \\na series\\n on\\nAccounting\\n\\n\\nHisto...  \n",
       "11186  Part of \\na series\\n on\\nAccounting\\n\\n\\nHisto...  "
      ]
     },
     "execution_count": 8,
     "metadata": {},
     "output_type": "execute_result"
    }
   ],
   "source": [
    "table[table.Title==\"Revenue\"]"
   ]
  },
  {
   "cell_type": "code",
   "execution_count": 10,
   "metadata": {},
   "outputs": [
    {
     "data": {
      "text/html": [
       "<div>\n",
       "<style scoped>\n",
       "    .dataframe tbody tr th:only-of-type {\n",
       "        vertical-align: middle;\n",
       "    }\n",
       "\n",
       "    .dataframe tbody tr th {\n",
       "        vertical-align: top;\n",
       "    }\n",
       "\n",
       "    .dataframe thead th {\n",
       "        text-align: right;\n",
       "    }\n",
       "</style>\n",
       "<table border=\"1\" class=\"dataframe\">\n",
       "  <thead>\n",
       "    <tr style=\"text-align: right;\">\n",
       "      <th></th>\n",
       "      <th>Title</th>\n",
       "      <th>URL</th>\n",
       "      <th>Text</th>\n",
       "      <th>Table Table</th>\n",
       "    </tr>\n",
       "  </thead>\n",
       "  <tbody>\n",
       "    <tr>\n",
       "      <th>527</th>\n",
       "      <td>List of</td>\n",
       "      <td>https://en.wikipedia.org/wiki/List_of_American...</td>\n",
       "      <td>This article lists characters from the \\nanima...</td>\n",
       "      <td>\\n\\n\\n\\n\\nCast members\\n\\n\\n\\n\\n\\n\\n\\n\\n\\n\\n\\n...</td>\n",
       "    </tr>\n",
       "    <tr>\n",
       "      <th>4599</th>\n",
       "      <td>List of</td>\n",
       "      <td>https://en.wikipedia.org/wiki/List_of_Mayday_e...</td>\n",
       "      <td>\\n\\n\\nMayday\\n, known as \\nAir Crash Investiga...</td>\n",
       "      <td>Seasons\\n[1]\\nEpisodes\\nOriginally aired\\nFirs...</td>\n",
       "    </tr>\n",
       "    <tr>\n",
       "      <th>5923</th>\n",
       "      <td>List of</td>\n",
       "      <td>https://en.wikipedia.org/wiki/Phil_and_Lil_DeV...</td>\n",
       "      <td>\\n\\nRugrats\\n includes a large array of charac...</td>\n",
       "      <td>This article has multiple issues.\\n Please hel...</td>\n",
       "    </tr>\n",
       "    <tr>\n",
       "      <th>6577</th>\n",
       "      <td>List of</td>\n",
       "      <td>https://en.wikipedia.org/wiki/Grolim</td>\n",
       "      <td>This is a \\nlist of \\nThe Belgariad\\n and \\nTh...</td>\n",
       "      <td>v\\nt\\ne\\nBibliography\\n by \\nDavid Eddings\\nBe...</td>\n",
       "    </tr>\n",
       "    <tr>\n",
       "      <th>6598</th>\n",
       "      <td>List of</td>\n",
       "      <td>https://en.wikipedia.org/wiki/Aldur</td>\n",
       "      <td>This is a \\nlist of \\nThe Belgariad\\n and \\nTh...</td>\n",
       "      <td>v\\nt\\ne\\nBibliography\\n by \\nDavid Eddings\\nBe...</td>\n",
       "    </tr>\n",
       "    <tr>\n",
       "      <th>6607</th>\n",
       "      <td>List of</td>\n",
       "      <td>https://en.wikipedia.org/wiki/Chaldan</td>\n",
       "      <td>This is a \\nlist of \\nThe Belgariad\\n and \\nTh...</td>\n",
       "      <td>v\\nt\\ne\\nBibliography\\n by \\nDavid Eddings\\nBe...</td>\n",
       "    </tr>\n",
       "    <tr>\n",
       "      <th>9035</th>\n",
       "      <td>List of</td>\n",
       "      <td>https://en.wikipedia.org/wiki/List_of_Samantha...</td>\n",
       "      <td>The following is a list of characters in the \\...</td>\n",
       "      <td>This article \\ndoes not \\ncite\\n any \\nsources...</td>\n",
       "    </tr>\n",
       "    <tr>\n",
       "      <th>11404</th>\n",
       "      <td>List of</td>\n",
       "      <td>https://en.wikipedia.org/wiki/Gale_Hawthorne</td>\n",
       "      <td>The following is a list of characters in \\nThe...</td>\n",
       "      <td>This article \\nneeds additional citations for ...</td>\n",
       "    </tr>\n",
       "  </tbody>\n",
       "</table>\n",
       "</div>"
      ],
      "text/plain": [
       "          Title                                                URL  \\\n",
       "527    List of   https://en.wikipedia.org/wiki/List_of_American...   \n",
       "4599   List of   https://en.wikipedia.org/wiki/List_of_Mayday_e...   \n",
       "5923   List of   https://en.wikipedia.org/wiki/Phil_and_Lil_DeV...   \n",
       "6577   List of                https://en.wikipedia.org/wiki/Grolim   \n",
       "6598   List of                 https://en.wikipedia.org/wiki/Aldur   \n",
       "6607   List of               https://en.wikipedia.org/wiki/Chaldan   \n",
       "9035   List of   https://en.wikipedia.org/wiki/List_of_Samantha...   \n",
       "11404  List of        https://en.wikipedia.org/wiki/Gale_Hawthorne   \n",
       "\n",
       "                                                    Text  \\\n",
       "527    This article lists characters from the \\nanima...   \n",
       "4599   \\n\\n\\nMayday\\n, known as \\nAir Crash Investiga...   \n",
       "5923   \\n\\nRugrats\\n includes a large array of charac...   \n",
       "6577   This is a \\nlist of \\nThe Belgariad\\n and \\nTh...   \n",
       "6598   This is a \\nlist of \\nThe Belgariad\\n and \\nTh...   \n",
       "6607   This is a \\nlist of \\nThe Belgariad\\n and \\nTh...   \n",
       "9035   The following is a list of characters in the \\...   \n",
       "11404  The following is a list of characters in \\nThe...   \n",
       "\n",
       "                                             Table Table  \n",
       "527    \\n\\n\\n\\n\\nCast members\\n\\n\\n\\n\\n\\n\\n\\n\\n\\n\\n\\n...  \n",
       "4599   Seasons\\n[1]\\nEpisodes\\nOriginally aired\\nFirs...  \n",
       "5923   This article has multiple issues.\\n Please hel...  \n",
       "6577   v\\nt\\ne\\nBibliography\\n by \\nDavid Eddings\\nBe...  \n",
       "6598   v\\nt\\ne\\nBibliography\\n by \\nDavid Eddings\\nBe...  \n",
       "6607   v\\nt\\ne\\nBibliography\\n by \\nDavid Eddings\\nBe...  \n",
       "9035   This article \\ndoes not \\ncite\\n any \\nsources...  \n",
       "11404  This article \\nneeds additional citations for ...  "
      ]
     },
     "execution_count": 10,
     "metadata": {},
     "output_type": "execute_result"
    }
   ],
   "source": [
    "table[table.Title==\"List of \"]  # this happens because my scraper was fetching -\n",
    "\n",
    "# response.xpath('//h1[@class=\"firstheading\"]//text()').extract_first()\n",
    "\n",
    "# It works almost on every case except these article Whose titles are starting from List of -- Reason??\n",
    "# go to anyone url from these, and inspect on title, you will get the reason behind it. \n",
    "\n",
    "# Don't Worry I'll make changes to my scraper it will work fine in this case, when you run the scraper."
   ]
  },
  {
   "cell_type": "code",
   "execution_count": 11,
   "metadata": {},
   "outputs": [],
   "source": [
    "table.drop_duplicates(subset=['Title'],inplace=True)"
   ]
  },
  {
   "cell_type": "code",
   "execution_count": 13,
   "metadata": {},
   "outputs": [
    {
     "data": {
      "text/plain": [
       "11175"
      ]
     },
     "execution_count": 13,
     "metadata": {},
     "output_type": "execute_result"
    }
   ],
   "source": [
    "len(table.index)"
   ]
  },
  {
   "cell_type": "code",
   "execution_count": 14,
   "metadata": {},
   "outputs": [
    {
     "data": {
      "text/html": [
       "<div>\n",
       "<style scoped>\n",
       "    .dataframe tbody tr th:only-of-type {\n",
       "        vertical-align: middle;\n",
       "    }\n",
       "\n",
       "    .dataframe tbody tr th {\n",
       "        vertical-align: top;\n",
       "    }\n",
       "\n",
       "    .dataframe thead th {\n",
       "        text-align: right;\n",
       "    }\n",
       "</style>\n",
       "<table border=\"1\" class=\"dataframe\">\n",
       "  <thead>\n",
       "    <tr style=\"text-align: right;\">\n",
       "      <th></th>\n",
       "      <th>Title</th>\n",
       "      <th>URL</th>\n",
       "      <th>Text</th>\n",
       "      <th>Table Table</th>\n",
       "    </tr>\n",
       "  </thead>\n",
       "  <tbody>\n",
       "    <tr>\n",
       "      <th>10973</th>\n",
       "      <td>Talk:Political history of the world</td>\n",
       "      <td>https://en.wikipedia.org/wiki/Talk:Political_h...</td>\n",
       "      <td>Navigation menu</td>\n",
       "      <td>\\n\\nThis is the \\ntalk page\\n for discussing i...</td>\n",
       "    </tr>\n",
       "  </tbody>\n",
       "</table>\n",
       "</div>"
      ],
      "text/plain": [
       "                                     Title  \\\n",
       "10973  Talk:Political history of the world   \n",
       "\n",
       "                                                     URL             Text  \\\n",
       "10973  https://en.wikipedia.org/wiki/Talk:Political_h...  Navigation menu   \n",
       "\n",
       "                                             Table Table  \n",
       "10973  \\n\\nThis is the \\ntalk page\\n for discussing i...  "
      ]
     },
     "execution_count": 14,
     "metadata": {},
     "output_type": "execute_result"
    }
   ],
   "source": [
    "table[table.duplicated(subset=['Text'])]"
   ]
  },
  {
   "cell_type": "code",
   "execution_count": 15,
   "metadata": {},
   "outputs": [
    {
     "data": {
      "text/plain": [
       "'https://en.wikipedia.org/wiki/Talk:Political_history_of_the_world'"
      ]
     },
     "execution_count": 15,
     "metadata": {},
     "output_type": "execute_result"
    }
   ],
   "source": [
    "table.URL[10973]"
   ]
  },
  {
   "cell_type": "code",
   "execution_count": 16,
   "metadata": {},
   "outputs": [],
   "source": [
    "table = table[table.Text.map(len)>500] # get rid of very small articles"
   ]
  },
  {
   "cell_type": "code",
   "execution_count": 17,
   "metadata": {},
   "outputs": [
    {
     "data": {
      "text/html": [
       "<div>\n",
       "<style scoped>\n",
       "    .dataframe tbody tr th:only-of-type {\n",
       "        vertical-align: middle;\n",
       "    }\n",
       "\n",
       "    .dataframe tbody tr th {\n",
       "        vertical-align: top;\n",
       "    }\n",
       "\n",
       "    .dataframe thead th {\n",
       "        text-align: right;\n",
       "    }\n",
       "</style>\n",
       "<table border=\"1\" class=\"dataframe\">\n",
       "  <thead>\n",
       "    <tr style=\"text-align: right;\">\n",
       "      <th></th>\n",
       "      <th>Title</th>\n",
       "      <th>URL</th>\n",
       "      <th>Text</th>\n",
       "      <th>Table Table</th>\n",
       "    </tr>\n",
       "  </thead>\n",
       "  <tbody>\n",
       "  </tbody>\n",
       "</table>\n",
       "</div>"
      ],
      "text/plain": [
       "Empty DataFrame\n",
       "Columns: [Title, URL, Text, Table Table]\n",
       "Index: []"
      ]
     },
     "execution_count": 17,
     "metadata": {},
     "output_type": "execute_result"
    }
   ],
   "source": [
    "# confirming\n",
    "table[table.Text.map(len)<500]"
   ]
  },
  {
   "cell_type": "code",
   "execution_count": 18,
   "metadata": {},
   "outputs": [
    {
     "data": {
      "text/plain": [
       "10909"
      ]
     },
     "execution_count": 18,
     "metadata": {},
     "output_type": "execute_result"
    }
   ],
   "source": [
    "len(table.index)"
   ]
  },
  {
   "cell_type": "code",
   "execution_count": 27,
   "metadata": {},
   "outputs": [],
   "source": [
    "table.reset_index(drop=True,inplace=True)"
   ]
  },
  {
   "cell_type": "code",
   "execution_count": 28,
   "metadata": {},
   "outputs": [
    {
     "data": {
      "text/html": [
       "<div>\n",
       "<style scoped>\n",
       "    .dataframe tbody tr th:only-of-type {\n",
       "        vertical-align: middle;\n",
       "    }\n",
       "\n",
       "    .dataframe tbody tr th {\n",
       "        vertical-align: top;\n",
       "    }\n",
       "\n",
       "    .dataframe thead th {\n",
       "        text-align: right;\n",
       "    }\n",
       "</style>\n",
       "<table border=\"1\" class=\"dataframe\">\n",
       "  <thead>\n",
       "    <tr style=\"text-align: right;\">\n",
       "      <th></th>\n",
       "      <th>Title</th>\n",
       "      <th>URL</th>\n",
       "      <th>Text</th>\n",
       "      <th>Table Table</th>\n",
       "    </tr>\n",
       "  </thead>\n",
       "  <tbody>\n",
       "    <tr>\n",
       "      <th>10904</th>\n",
       "      <td>Circus</td>\n",
       "      <td>https://en.wikipedia.org/wiki/Circus_(Britney_...</td>\n",
       "      <td>\\n\\n\\nCircus\\n is the sixth studio album by Am...</td>\n",
       "      <td>Circus\\nStandard edition. The deluxe edition f...</td>\n",
       "    </tr>\n",
       "    <tr>\n",
       "      <th>10905</th>\n",
       "      <td>Character (symbol)</td>\n",
       "      <td>https://en.wikipedia.org/wiki/Character_(symbol)</td>\n",
       "      <td>A \\ncharacter\\n is a \\nsign\\n or \\nsymbol\\n.\\n...</td>\n",
       "      <td>\\n\\n\\n\\n\\n\\nLook up \\ncharacter\\n in Wiktionar...</td>\n",
       "    </tr>\n",
       "    <tr>\n",
       "      <th>10906</th>\n",
       "      <td>Three Hearts</td>\n",
       "      <td>https://en.wikipedia.org/wiki/Three_Hearts_(film)</td>\n",
       "      <td>Three Hearts\\n (\\nFrench\\n: \\n3 cœurs\\n) is a ...</td>\n",
       "      <td>Three Hearts\\nTheatrical release poster\\nDirec...</td>\n",
       "    </tr>\n",
       "    <tr>\n",
       "      <th>10907</th>\n",
       "      <td>Gryllinae</td>\n",
       "      <td>https://en.wikipedia.org/wiki/Gryllinae</td>\n",
       "      <td>\\n\\nMany, see text\\n\\nGryllinae\\n, or \\nfield ...</td>\n",
       "      <td>\\n\\n\\n\\n\\nGryllinae\\n\\n\\n\\n\\n\\n\\n\\n\\n\\n\\n\\nCom...</td>\n",
       "    </tr>\n",
       "    <tr>\n",
       "      <th>10908</th>\n",
       "      <td>Gryllus campestris</td>\n",
       "      <td>https://en.wikipedia.org/wiki/Gryllus_campestris</td>\n",
       "      <td>\\n\\nGryllus campestris\\n, the \\nEuropean field...</td>\n",
       "      <td>\\n\\n\\n\\n\\nGryllus campestris\\n\\n\\n\\n\\n\\n\\n\\n\\n...</td>\n",
       "    </tr>\n",
       "  </tbody>\n",
       "</table>\n",
       "</div>"
      ],
      "text/plain": [
       "                    Title                                                URL  \\\n",
       "10904              Circus  https://en.wikipedia.org/wiki/Circus_(Britney_...   \n",
       "10905  Character (symbol)   https://en.wikipedia.org/wiki/Character_(symbol)   \n",
       "10906        Three Hearts  https://en.wikipedia.org/wiki/Three_Hearts_(film)   \n",
       "10907           Gryllinae            https://en.wikipedia.org/wiki/Gryllinae   \n",
       "10908  Gryllus campestris   https://en.wikipedia.org/wiki/Gryllus_campestris   \n",
       "\n",
       "                                                    Text  \\\n",
       "10904  \\n\\n\\nCircus\\n is the sixth studio album by Am...   \n",
       "10905  A \\ncharacter\\n is a \\nsign\\n or \\nsymbol\\n.\\n...   \n",
       "10906  Three Hearts\\n (\\nFrench\\n: \\n3 cœurs\\n) is a ...   \n",
       "10907  \\n\\nMany, see text\\n\\nGryllinae\\n, or \\nfield ...   \n",
       "10908  \\n\\nGryllus campestris\\n, the \\nEuropean field...   \n",
       "\n",
       "                                             Table Table  \n",
       "10904  Circus\\nStandard edition. The deluxe edition f...  \n",
       "10905  \\n\\n\\n\\n\\n\\nLook up \\ncharacter\\n in Wiktionar...  \n",
       "10906  Three Hearts\\nTheatrical release poster\\nDirec...  \n",
       "10907  \\n\\n\\n\\n\\nGryllinae\\n\\n\\n\\n\\n\\n\\n\\n\\n\\n\\n\\nCom...  \n",
       "10908  \\n\\n\\n\\n\\nGryllus campestris\\n\\n\\n\\n\\n\\n\\n\\n\\n...  "
      ]
     },
     "execution_count": 28,
     "metadata": {},
     "output_type": "execute_result"
    }
   ],
   "source": [
    "table.tail()"
   ]
  },
  {
   "cell_type": "code",
   "execution_count": 84,
   "metadata": {},
   "outputs": [],
   "source": []
  },
  {
   "cell_type": "code",
   "execution_count": 29,
   "metadata": {},
   "outputs": [],
   "source": [
    "text = '''\n",
    "https://en.wikipedia.org/wiki/Smash_and_Dash_(disambiguation)\n",
    "https://en.wikipedia.org/wiki/Category:Cuisine\n",
    "https://en.wikipedia.org/wiki/Talk:Cuisine\n",
    "'''"
   ]
  },
  {
   "cell_type": "code",
   "execution_count": 39,
   "metadata": {
    "scrolled": true
   },
   "outputs": [
    {
     "name": "stdout",
     "output_type": "stream",
     "text": [
      "\n",
      "https://en.wikipedia.org/wiki/Smash_and_Dash_(disambiguation)\n",
      "\n",
      "\n",
      "\n"
     ]
    }
   ],
   "source": [
    "print(re.sub('https://en.wikipedia.org/wiki/[a-zA-Z0-9]+:[a-zA-Z0-9_$()]+',\"\",text))"
   ]
  },
  {
   "cell_type": "code",
   "execution_count": 38,
   "metadata": {},
   "outputs": [
    {
     "name": "stdout",
     "output_type": "stream",
     "text": [
      "['https://en.wikipedia.org/wiki/Category:Cuisine', 'https://en.wikipedia.org/wiki/Talk:Cuisine']\n"
     ]
    }
   ],
   "source": [
    "print(re.findall('https://en.wikipedia.org/wiki/[a-zA-Z0-9]+:[a-zA-Z0-9_$()]+',text))\n",
    "\n",
    "# We do not want these types of links-- But for now these links are aldready filtered out due to this statement\n",
    "# table = table[table.Text.map(len)>500] "
   ]
  },
  {
   "cell_type": "code",
   "execution_count": 44,
   "metadata": {},
   "outputs": [],
   "source": [
    "st = text.split()[1]"
   ]
  },
  {
   "cell_type": "code",
   "execution_count": 118,
   "metadata": {},
   "outputs": [
    {
     "data": {
      "text/plain": [
       "[':', ':']"
      ]
     },
     "execution_count": 118,
     "metadata": {},
     "output_type": "execute_result"
    }
   ],
   "source": [
    "re.findall(':',st)"
   ]
  },
  {
   "cell_type": "code",
   "execution_count": 45,
   "metadata": {},
   "outputs": [
    {
     "data": {
      "text/plain": [
       "True"
      ]
     },
     "execution_count": 45,
     "metadata": {},
     "output_type": "execute_result"
    }
   ],
   "source": [
    "pattern = 'https://en.wikipedia.org/wiki/[a-zA-Z0-9]+:[a-zA-Z0-9_$()]+'\n",
    "bool(re.match(pattern,st))"
   ]
  },
  {
   "cell_type": "code",
   "execution_count": null,
   "metadata": {},
   "outputs": [],
   "source": []
  },
  {
   "cell_type": "code",
   "execution_count": null,
   "metadata": {},
   "outputs": [],
   "source": []
  },
  {
   "cell_type": "code",
   "execution_count": 59,
   "metadata": {},
   "outputs": [],
   "source": [
    "table['Table Table'] = table['Table Table'].map(str)"
   ]
  },
  {
   "cell_type": "code",
   "execution_count": 60,
   "metadata": {
    "scrolled": true
   },
   "outputs": [],
   "source": [
    "table.Text = table.Text.str.strip()\n",
    "table['Table Table'] = table['Table Table'].str.strip()"
   ]
  },
  {
   "cell_type": "code",
   "execution_count": 61,
   "metadata": {},
   "outputs": [],
   "source": [
    "def initial_clean(text):\n",
    "    \"\"\"\n",
    "    Function to clean text of websites, email addresess and any punctuation\n",
    "    We also lower case the text\n",
    "    \"\"\"\n",
    "    pattern = r\"((\\S+)?(http(s)?)(\\S+))|((\\S+)?(www)(\\S+))|((\\S+)?(\\@)(\\S+)?)\"\n",
    "    # specially for our dataset\n",
    "    text = re.sub('[[a-zA-Z0-9]+]|[\\n[\\nedit\\n]+]',' ',text)\n",
    "    text = re.sub(pattern,\" \",text)\n",
    "    text = re.sub(\"[^a-zA-Z]\",\" \",text)\n",
    "    text = text.lower()\n",
    "    text = nltk.word_tokenize(text)\n",
    "    return text\n",
    "\n",
    "stop_words = STOPWORDS\n",
    "\n",
    "def remove_stop_words(text):\n",
    "    '''\n",
    "    Function to remove stopwords from text\n",
    "    '''\n",
    "    return [word for word in text if word not in stop_words]\n",
    "\n",
    "def lemmatize(text):\n",
    "    '''\n",
    "    Function to perform lemmatization on text\n",
    "    '''\n",
    "    lemmed = [WordNetLemmatizer().lemmatize(word) for word in text if len(word)>2]\n",
    "    lemmed = [WordNetLemmatizer().lemmatize(word,pos='v') for word in lemmed]\n",
    "    return lemmed\n",
    "\n",
    "def apply_all(text):\n",
    "    return lemmatize(remove_stop_words(initial_clean(text)))"
   ]
  },
  {
   "cell_type": "code",
   "execution_count": 63,
   "metadata": {},
   "outputs": [
    {
     "name": "stdout",
     "output_type": "stream",
     "text": [
      "Time to clean and tokenize 10909 articles: 12.348895414670308 min\n"
     ]
    }
   ],
   "source": [
    "# clean text and title and create new column \"tokenized\"\n",
    "t1 = time.time()\n",
    "table['tokenized'] = table['Text'].apply(apply_all) + table['Table Table'].apply(apply_all)\n",
    "t2 = time.time()\n",
    "print(\"Time to clean and tokenize\", len(table), \"articles:\", (t2-t1)/60, \"min\")"
   ]
  },
  {
   "cell_type": "code",
   "execution_count": 62,
   "metadata": {},
   "outputs": [
    {
     "data": {
      "text/html": [
       "<div>\n",
       "<style scoped>\n",
       "    .dataframe tbody tr th:only-of-type {\n",
       "        vertical-align: middle;\n",
       "    }\n",
       "\n",
       "    .dataframe tbody tr th {\n",
       "        vertical-align: top;\n",
       "    }\n",
       "\n",
       "    .dataframe thead th {\n",
       "        text-align: right;\n",
       "    }\n",
       "</style>\n",
       "<table border=\"1\" class=\"dataframe\">\n",
       "  <thead>\n",
       "    <tr style=\"text-align: right;\">\n",
       "      <th></th>\n",
       "      <th>Title</th>\n",
       "      <th>URL</th>\n",
       "      <th>Text</th>\n",
       "      <th>Table Table</th>\n",
       "    </tr>\n",
       "  </thead>\n",
       "  <tbody>\n",
       "    <tr>\n",
       "      <th>0</th>\n",
       "      <td>Virus</td>\n",
       "      <td>https://en.wikipedia.org/wiki/Virus</td>\n",
       "      <td>See text\\n\\n\\nA \\nvirus\\n is a submicroscopic ...</td>\n",
       "      <td>Virus\\n\\n\\n\\n\\n\\n\\n\\n\\n\\n\\n\\nSARS-CoV-2, a mem...</td>\n",
       "    </tr>\n",
       "    <tr>\n",
       "      <th>1</th>\n",
       "      <td>Morphology (biology)</td>\n",
       "      <td>https://en.wikipedia.org/wiki/Morphology_(biol...</td>\n",
       "      <td>Morphology\\n is a branch of \\nbiology\\n dealin...</td>\n",
       "      <td>v\\nt\\ne\\nAnatomy\\n and \\nmorphology\\nFields\\n\\...</td>\n",
       "    </tr>\n",
       "    <tr>\n",
       "      <th>2</th>\n",
       "      <td>Pleomorphism (microbiology)</td>\n",
       "      <td>https://en.wikipedia.org/wiki/Pleomorphism_(mi...</td>\n",
       "      <td>In microbiology, \\npleomorphism\\n (from \\nAnci...</td>\n",
       "      <td>nan</td>\n",
       "    </tr>\n",
       "    <tr>\n",
       "      <th>3</th>\n",
       "      <td>Respiratory tract infection</td>\n",
       "      <td>https://en.wikipedia.org/wiki/Respiratory_trac...</td>\n",
       "      <td>A \\nrespiratory tract infection\\n (\\nRTI\\n) is...</td>\n",
       "      <td>Respiratory tract infection\\nConducting passag...</td>\n",
       "    </tr>\n",
       "    <tr>\n",
       "      <th>4</th>\n",
       "      <td>Electron microscope</td>\n",
       "      <td>https://en.wikipedia.org/wiki/Electron_microscopy</td>\n",
       "      <td>An \\nelectron microscope\\n is a \\nmicroscope\\n...</td>\n",
       "      <td>Semiconductor and data storage\\n\\n\\nCircuit ed...</td>\n",
       "    </tr>\n",
       "  </tbody>\n",
       "</table>\n",
       "</div>"
      ],
      "text/plain": [
       "                         Title  \\\n",
       "0                        Virus   \n",
       "1         Morphology (biology)   \n",
       "2  Pleomorphism (microbiology)   \n",
       "3  Respiratory tract infection   \n",
       "4          Electron microscope   \n",
       "\n",
       "                                                 URL  \\\n",
       "0                https://en.wikipedia.org/wiki/Virus   \n",
       "1  https://en.wikipedia.org/wiki/Morphology_(biol...   \n",
       "2  https://en.wikipedia.org/wiki/Pleomorphism_(mi...   \n",
       "3  https://en.wikipedia.org/wiki/Respiratory_trac...   \n",
       "4  https://en.wikipedia.org/wiki/Electron_microscopy   \n",
       "\n",
       "                                                Text  \\\n",
       "0  See text\\n\\n\\nA \\nvirus\\n is a submicroscopic ...   \n",
       "1  Morphology\\n is a branch of \\nbiology\\n dealin...   \n",
       "2  In microbiology, \\npleomorphism\\n (from \\nAnci...   \n",
       "3  A \\nrespiratory tract infection\\n (\\nRTI\\n) is...   \n",
       "4  An \\nelectron microscope\\n is a \\nmicroscope\\n...   \n",
       "\n",
       "                                         Table Table  \n",
       "0  Virus\\n\\n\\n\\n\\n\\n\\n\\n\\n\\n\\n\\nSARS-CoV-2, a mem...  \n",
       "1  v\\nt\\ne\\nAnatomy\\n and \\nmorphology\\nFields\\n\\...  \n",
       "2                                                nan  \n",
       "3  Respiratory tract infection\\nConducting passag...  \n",
       "4  Semiconductor and data storage\\n\\n\\nCircuit ed...  "
      ]
     },
     "execution_count": 62,
     "metadata": {},
     "output_type": "execute_result"
    }
   ],
   "source": [
    "table.head()"
   ]
  },
  {
   "cell_type": "code",
   "execution_count": 64,
   "metadata": {},
   "outputs": [
    {
     "data": {
      "text/plain": [
       "368797"
      ]
     },
     "execution_count": 64,
     "metadata": {},
     "output_type": "execute_result"
    }
   ],
   "source": [
    "# list of all words\n",
    "all_words = [word for item in list(table['tokenized']) for word in item]\n",
    "# use nltk fdist to get a frequency distribution of all words\n",
    "fdist = FreqDist(all_words)\n",
    "len(fdist) # number of unique words"
   ]
  },
  {
   "cell_type": "code",
   "execution_count": 70,
   "metadata": {},
   "outputs": [],
   "source": [
    "import pickle"
   ]
  },
  {
   "cell_type": "code",
   "execution_count": 71,
   "metadata": {},
   "outputs": [],
   "source": [
    "pickle.dump(fdist,open(\"fdist_file2.pkl\",\"wb\"))"
   ]
  },
  {
   "cell_type": "code",
   "execution_count": 65,
   "metadata": {},
   "outputs": [
    {
     "data": {
      "text/plain": [
       "FreqDist({'state': 58380, 'new': 47466, 'year': 39333, 'time': 35958, 'include': 34350, 'city': 31916, 'war': 30863, 'unite': 30571, 'group': 24311, 'national': 23535, ...})"
      ]
     },
     "execution_count": 65,
     "metadata": {},
     "output_type": "execute_result"
    }
   ],
   "source": [
    "fdist"
   ]
  },
  {
   "cell_type": "code",
   "execution_count": 72,
   "metadata": {},
   "outputs": [
    {
     "data": {
      "text/plain": [
       "FreqDist({'state': 58380, 'new': 47466, 'year': 39333, 'time': 35958, 'include': 34350, 'city': 31916, 'war': 30863, 'unite': 30571, 'group': 24311, 'national': 23535, ...})"
      ]
     },
     "execution_count": 72,
     "metadata": {},
     "output_type": "execute_result"
    }
   ],
   "source": [
    "fdist"
   ]
  },
  {
   "cell_type": "code",
   "execution_count": 67,
   "metadata": {},
   "outputs": [
    {
     "data": {
      "text/plain": [
       "[('gigue', 5),\n",
       " ('surtitle', 5),\n",
       " ('humperdinck', 5),\n",
       " ('divertissement', 5),\n",
       " ('orphean', 5),\n",
       " ('protour', 5),\n",
       " ('lemond', 5),\n",
       " ('equipe', 5),\n",
       " ('kimmage', 5),\n",
       " ('uec', 5)]"
      ]
     },
     "execution_count": 67,
     "metadata": {},
     "output_type": "execute_result"
    }
   ],
   "source": [
    "k = 100000\n",
    "top_k_words = fdist.most_common(k)\n",
    "top_k_words[-10:]"
   ]
  },
  {
   "cell_type": "code",
   "execution_count": 68,
   "metadata": {},
   "outputs": [],
   "source": [
    "# function to keep only top k words\n",
    "top_k_words,_ = zip(*fdist.most_common(k))\n",
    "top_k_words = set(top_k_words)\n",
    "\n",
    "def keep_top_k_words(text):\n",
    "    return [word for word in text if word in top_k_words]\n"
   ]
  },
  {
   "cell_type": "code",
   "execution_count": 69,
   "metadata": {},
   "outputs": [],
   "source": [
    "table['tokenized'] = table['tokenized'].apply(keep_top_k_words)"
   ]
  },
  {
   "cell_type": "code",
   "execution_count": 86,
   "metadata": {},
   "outputs": [
    {
     "name": "stdout",
     "output_type": "stream",
     "text": [
      "length of list: 10909 \n",
      "average document length 1293.3463195526629 \n",
      "minimum document length 21 \n",
      "maximum document length 24238\n"
     ]
    }
   ],
   "source": [
    "# document length\n",
    "table['doc_len'] = table['tokenized'].apply(lambda x: len(x))\n",
    "doc_lengths = list(table['doc_len'])\n",
    "table.drop(labels='doc_len', axis=1, inplace=True)\n",
    "\n",
    "print(\"length of list:\",len(doc_lengths),\n",
    "      \"\\naverage document length\", np.average(doc_lengths),\n",
    "      \"\\nminimum document length\", min(doc_lengths),\n",
    "      \"\\nmaximum document length\", max(doc_lengths))"
   ]
  },
  {
   "cell_type": "code",
   "execution_count": 70,
   "metadata": {},
   "outputs": [],
   "source": [
    "corpus = list(table['tokenized'])"
   ]
  },
  {
   "cell_type": "code",
   "execution_count": 89,
   "metadata": {},
   "outputs": [],
   "source": [
    "pickle.dump(corpus,open(\"wiki_corpus_file.pkl\",\"wb\"))"
   ]
  },
  {
   "cell_type": "code",
   "execution_count": null,
   "metadata": {},
   "outputs": [],
   "source": []
  },
  {
   "cell_type": "code",
   "execution_count": 71,
   "metadata": {},
   "outputs": [],
   "source": [
    "wiki_title_file = list(table[\"Title\"])\n",
    "wiki_text_file = list(table[\"Text\"])"
   ]
  },
  {
   "cell_type": "code",
   "execution_count": 95,
   "metadata": {},
   "outputs": [
    {
     "data": {
      "text/plain": [
       "'Severe acute respiratory syndrome coronavirus 2'"
      ]
     },
     "execution_count": 95,
     "metadata": {},
     "output_type": "execute_result"
    }
   ],
   "source": [
    "wiki_title_file[10]"
   ]
  },
  {
   "cell_type": "code",
   "execution_count": 96,
   "metadata": {},
   "outputs": [],
   "source": [
    "pickle.dump(wiki_title_file,open(\"wiki_title_file.pkl\",\"wb\"))\n",
    "pickle.dump(wiki_text_file,open(\"wiki_text_file.pkl\",\"wb\"))\n",
    "\n",
    "pickle.dump(wiki_title_file,open(\"title_file.pkl\",\"wb\"))\n",
    "pickle.dump(wiki_text_file,open(\"data_file.pkl\",\"wb\"))"
   ]
  },
  {
   "cell_type": "code",
   "execution_count": null,
   "metadata": {},
   "outputs": [],
   "source": []
  },
  {
   "cell_type": "code",
   "execution_count": null,
   "metadata": {},
   "outputs": [],
   "source": []
  },
  {
   "cell_type": "code",
   "execution_count": null,
   "metadata": {},
   "outputs": [],
   "source": []
  },
  {
   "cell_type": "code",
   "execution_count": null,
   "metadata": {},
   "outputs": [],
   "source": []
  }
 ],
 "metadata": {
  "kernelspec": {
   "display_name": "Python 3",
   "language": "python",
   "name": "python3"
  },
  "language_info": {
   "codemirror_mode": {
    "name": "ipython",
    "version": 3
   },
   "file_extension": ".py",
   "mimetype": "text/x-python",
   "name": "python",
   "nbconvert_exporter": "python",
   "pygments_lexer": "ipython3",
   "version": "3.6.8"
  }
 },
 "nbformat": 4,
 "nbformat_minor": 2
}
